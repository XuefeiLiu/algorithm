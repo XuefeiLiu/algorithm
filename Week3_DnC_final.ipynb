{
 "cells": [
  {
   "cell_type": "markdown",
   "metadata": {},
   "source": [
    " # Divide and Conquer\n",
    " ## Richard Xing\n",
    " ### 2021-01-23"
   ]
  },
  {
   "cell_type": "markdown",
   "metadata": {},
   "source": [
    "# What is Divide and Conquer?\n",
    "- Divide and conquer is an algorithm design paradigm. You can think design paradigm as a higher abstraction of algorithms.\n",
    "- Divide a problem into one(decrease and conquer) or multiple(divide and conquer) **similar subproblems**, then conquer the original problem. There may be a complex \"conquer\" step. \n",
    "    - a subproblem can be an identical problem with a smaller scale(size of array/string, parameters, etc)\n",
    "- implementation: a lot of them are naturally implemented with recursion, especially problems with small recursion depth.\n",
    "\n",
    "\n",
    "# Strategy/way of thinking: \n",
    "\n",
    "- top-down **thinking**: try to realize/identify it's composed of similar problems with smaller size(natural way of thinking)\n",
    "\n",
    "- bottom-up **thinking**: try to construct the solution from smaller subproblems(unnatural, harder)"
   ]
  },
  {
   "cell_type": "markdown",
   "metadata": {},
   "source": [
    "# Example 1： Merge sort\n",
    "- step1(divide): break the array into two halves, and sort them (identical problem with smaller size)\n",
    "- step2(conquer): combine the two sorted arrays into a bigger one(similar to homework in first week)\n",
    "\n",
    "\n",
    "- bottom-up thinking\n",
    "- top-down implementation/recursion"
   ]
  },
  {
   "cell_type": "code",
   "execution_count": 2,
   "metadata": {},
   "outputs": [],
   "source": [
    "#from geeksforgeeks\n",
    "def mergeSort(arr):\n",
    "    if len(arr) > 1:\n",
    "        mid = len(arr)//2\n",
    "        L = arr[:mid]\n",
    "        R = arr[mid:]\n",
    "        mergeSort(L)\n",
    "        mergeSort(R)\n",
    "        \n",
    "        #merge two sorted list, similar to HW in week 1\n",
    "        i = j = k = 0\n",
    "        while i < len(L) and j < len(R):\n",
    "            if L[i] < R[j]:\n",
    "                arr[k] = L[i]\n",
    "                i += 1\n",
    "            else:\n",
    "                arr[k] = R[j]\n",
    "                j += 1\n",
    "            k += 1\n",
    "        # Checking if any element was left\n",
    "        while i < len(L):\n",
    "            arr[k] = L[i]\n",
    "            i += 1\n",
    "            k += 1\n",
    "        while j < len(R):\n",
    "            arr[k] = R[j]\n",
    "            j += 1\n",
    "            k += 1\n"
   ]
  },
  {
   "cell_type": "code",
   "execution_count": 3,
   "metadata": {
    "scrolled": true
   },
   "outputs": [
    {
     "name": "stdout",
     "output_type": "stream",
     "text": [
      "Given array is\n",
      "12 11 13 5 6 7 \n",
      "Sorted array is: \n",
      "5 6 7 11 12 13 \n"
     ]
    }
   ],
   "source": [
    "# Code to print the list\n",
    "def printList(arr):\n",
    "    for i in range(len(arr)):\n",
    "        print(arr[i], end=\" \")\n",
    "    print()\n",
    "# Driver Code\n",
    "if __name__ == '__main__':\n",
    "    arr = [12, 11, 13, 5, 6, 7]\n",
    "    print(\"Given array is\", end=\"\\n\")\n",
    "    printList(arr)\n",
    "    mergeSort(arr)\n",
    "    print(\"Sorted array is: \", end=\"\\n\")\n",
    "    printList(arr)"
   ]
  },
  {
   "cell_type": "markdown",
   "metadata": {},
   "source": [
    "\n",
    "# Digression: algorithm classfication(wikipedia+textbooks+my thoughts)\n",
    "These classification can be useful for thinking, IMO. It may not be(and doesn't need to be) 100% scientific or rigorous.  \n",
    "## By implementation: Recursive, Iterative, ...\n",
    "## By design paradigm: \n",
    "- (1)Search and enumeration \n",
    "    - DFS/BFS\n",
    "    - backtracking\n",
    "    - two pointers/pruning(clever way of searching by eliminating a large search space)\n",
    "- (2)Divide and conquer/decrease and conquer\n",
    "    - binary search as decrease and conquer, find sth in one half + find sth in the other half(sorted so only one half needed)\n",
    "- (3)Transform and conquer\n",
    "    - eg. sort before attacking the problem of three sum\n",
    "- (4)Time space trade-off\n",
    "    - memoization\n",
    "    - hash tables\n",
    "- (Randomized algorithms,...)\n",
    "\n",
    "# Why is algorithm design paradigm classification useful practically?(at least for me, hopefully for you too) \n",
    "- Higher abstraction, less categories\n",
    "- See the essence through complexity\n",
    "- Closer to the way we think;may help with finding solution\n",
    "\n",
    "- Eg:\n",
    "    - Classify Tower of Hanoi as D&C(but **implemented** by recursion)\n",
    "\n",
    "    - DP as (D&C + time space trade-off) for optimization problems\n",
    "\n",
    "    - counting/combinetorics as D&C\n",
    "\n",
    "- HW: try to classify 15~20 LC problems you have done before into these three/four frequently seen design paradigms or design paradigms defined by yourself\n",
    "\n",
    "    - eg: LC1 Two sum, search and enumeration(+time space trade-off or transform and conquer)\n"
   ]
  },
  {
   "cell_type": "markdown",
   "metadata": {},
   "source": [
    "# Example 2: Construct Binary Tree from Preorder and Inorder Traversal(LC105)\n"
   ]
  },
  {
   "cell_type": "raw",
   "metadata": {},
   "source": [
    "# problem description:\n",
    "\n",
    "Given preorder and inorder traversal of a tree, construct the binary tree.\n",
    "Note:\n",
    "You may assume that duplicates do not exist in the tree.\n",
    "\n",
    "For example, given\n",
    "\n",
    "preorder = [3,9,20,15,7]\n",
    "inorder = [9,3,15,20,7]\n",
    "\n",
    "Return the following binary tree:\n",
    "\n",
    "    3\n",
    "   / \\\n",
    "  9  20\n",
    "    /  \\\n",
    "   15   7"
   ]
  },
  {
   "cell_type": "markdown",
   "metadata": {},
   "source": [
    "- top-down thinking\n",
    "\n",
    "    - (illustrate) how do we build tree?\n",
    "\n",
    "    - Key: For inorder traversal, left/right subtree is also inorder traversal， same with preorder\n",
    "\n",
    "    - preorder -> root+ left subtree preorder + right subtree preorder\n",
    "\n",
    "    - inorder -> left subtree inorder + root + right subtree inorder\n",
    "\n",
    "- top-down implementation/recursion\n",
    "    - root then left subtree and right subtree\n",
    "    - base case: empty node"
   ]
  },
  {
   "cell_type": "code",
   "execution_count": 4,
   "metadata": {},
   "outputs": [],
   "source": [
    "#implementation with pointer and hashtable for fast looking up\n",
    "def buildTree(preorder, inorder):\n",
    "    val_to_inorder_idx={value:key for key,value in enumerate(inorder)}\n",
    "    def helper(preorder,inorder,pre_start,pre_end,in_start,in_end):\n",
    "        #base case\n",
    "        if pre_start>pre_end or in_start>in_end:\n",
    "            return None\n",
    "        #construct root node\n",
    "        root_val = (preorder[pre_start])\n",
    "        root = TreeNode(root_val)\n",
    "        #construct left&right subtree\n",
    "        inorder_root_idx = val_to_inorder_idx[root_val]\n",
    "        root.left = helper(preorder,inorder,pre_start+1,pre_start+inorder_root_idx-in_start,in_start,inorder_root_idx-1)\n",
    "        root.right = helper(preorder,inorder,pre_start+inorder_root_idx-in_start+1,pre_end,inorder_root_idx+1,in_end)\n",
    "        return root\n",
    "    return helper(preorder,inorder,0,len(preorder)-1,0,len(inorder)-1)"
   ]
  },
  {
   "cell_type": "code",
   "execution_count": 5,
   "metadata": {},
   "outputs": [
    {
     "data": {
      "text/plain": [
       "<__main__.TreeNode at 0x200cc1ff3c8>"
      ]
     },
     "execution_count": 5,
     "metadata": {},
     "output_type": "execute_result"
    }
   ],
   "source": [
    "class TreeNode:\n",
    "    def __init__(self, x):\n",
    "        self.val = x\n",
    "        self.left = None\n",
    "        self.right = None\n",
    "preorder = [3,9,20,15,7]\n",
    "inorder = [9,3,15,20,7]\n",
    "buildTree(preorder, inorder)\n"
   ]
  },
  {
   "cell_type": "code",
   "execution_count": 6,
   "metadata": {},
   "outputs": [],
   "source": [
    "#drawtree(buildTree(preorder, inorder))#drawtree implementation is in later cell"
   ]
  },
  {
   "cell_type": "markdown",
   "metadata": {},
   "source": [
    "# Example 3: Different Ways to Add Parentheses(LC241)"
   ]
  },
  {
   "cell_type": "raw",
   "metadata": {},
   "source": [
    "problem description:\n",
    "Given a string of numbers and operators, return all possible results \n",
    "from computing all the different possible ways to group numbers and operators. The valid operators are +, - and *.\n",
    "\n",
    "Example 1:\n",
    "\n",
    "Input: \"2-1-1\"\n",
    "Output: [0, 2]\n",
    "Explanation: \n",
    "((2-1)-1) = 0 \n",
    "(2-(1-1)) = 2\n",
    "\n",
    "Example 2:\n",
    "\n",
    "Input: \"2*3-4*5\"\n",
    "Output: [-34, -14, -10, -10, 10]\n",
    "Explanation: \n",
    "(2*(3-(4*5))) = -34 \n",
    "((2*3)-(4*5)) = -14 \n",
    "((2*(3-4))*5) = -10 \n",
    "(2*((3-4)*5)) = -10 \n",
    "(((2*3)-4)*5) = 10\n"
   ]
  },
  {
   "cell_type": "markdown",
   "metadata": {},
   "source": [
    "- top-down thinking: innermost parens approach = first operation \n",
    "    - (illustrate). \n",
    "    - Unfortunately, there are repetitions $(2*3)-(4*5)$, should give 3!=6 results with this approach\n",
    "- observations\n",
    "    - how do we add parens? -> (# op #); \n",
    "    - what's inside a pair of parens is treated as a number, i.e., # can be either a number or (...)\n",
    "    - adding parens means determining the order of performing the operations, sometimes there is no first but there is last"
   ]
  },
  {
   "cell_type": "markdown",
   "metadata": {},
   "source": [
    "- top-down thinking: outermost parens = last operation, different choices of dividing \n",
    "    - (illustrate) \n",
    "    - bottom-up thinking too. sometimes it's beneficial to go from both directions\n",
    "    - results = Union of ((results from left) direct-product-sense operator (results from right)), over choices of last operation\n",
    "- top-down implementation/recursion"
   ]
  },
  {
   "cell_type": "code",
   "execution_count": 7,
   "metadata": {},
   "outputs": [],
   "source": [
    "def diffWaysToCompute(string):\n",
    "    # base case, if there is only one number in the string, return\n",
    "    if string.isdigit():\n",
    "        return [int(string)]\n",
    "    res = []\n",
    "    for i, char in enumerate(string):\n",
    "        #different choices of dividing\n",
    "        if char in ['+', '-', '*']:\n",
    "            #divide\n",
    "            left = diffWaysToCompute(string[:i])\n",
    "            right = diffWaysToCompute(string[i+1:])\n",
    "            #conquer\n",
    "            for l in left:\n",
    "                for r in right:\n",
    "                    if char == '+':\n",
    "                        res.append(l + r)\n",
    "                    elif char == '-':\n",
    "                        res.append(l - r)\n",
    "                    else:\n",
    "                        res.append(l * r)\n",
    "    return res"
   ]
  },
  {
   "cell_type": "code",
   "execution_count": 8,
   "metadata": {},
   "outputs": [
    {
     "data": {
      "text/plain": [
       "[-34, -10, -14, -10, 10]"
      ]
     },
     "execution_count": 8,
     "metadata": {},
     "output_type": "execute_result"
    }
   ],
   "source": [
    "diffWaysToCompute(\"2*3-4*5\")\n",
    "#len(diffWaysToCompute(\"2*3-4*5+6-7+8+9-10+11+1+1+1+1\")) time complexity at least O(2^N), <= O(N!) "
   ]
  },
  {
   "cell_type": "markdown",
   "metadata": {},
   "source": [
    "# Example 4: longest substring with at least k repeating characters(LC395)"
   ]
  },
  {
   "cell_type": "raw",
   "metadata": {},
   "source": [
    "problem description:\n",
    "Given a string s and an integer k, return the length of the longest substring of s such that \n",
    "the frequency of each character in this substring is greater than or equal to k.\n",
    "\n",
    "Example 1:\n",
    "\n",
    "Input: s = \"aaabb\", k = 3\n",
    "Output: 3\n",
    "Explanation: The longest substring is \"aaa\", as 'a' is repeated 3 times.\n",
    "\n",
    "Example 2:\n",
    "\n",
    "Input: s = \"ababbc\", k = 2\n",
    "Output: 5\n",
    "Explanation: The longest substring is \"ababb\", as 'a' is repeated 2 times and 'b' is repeated 3 times.\n"
   ]
  },
  {
   "cell_type": "markdown",
   "metadata": {},
   "source": [
    "- top-down thinking\n",
    "    - (illustrate) ababbcaba k=1,2\n",
    "    - observation: \n",
    "        - can't contain a character which appears less than k times(by brute force); greatly reduced search space; use it to split\n",
    "        - use any rare character to split\n",
    "    - top-down implementation/recursion\n",
    "        - max length of the longest substring satisfying conditions= max(max length of longest substring satisfying conditions for part 1 , for part 2,...)\n",
    "        - if every character has frequency >=k in a substring, max length ... = length of the substring(base case)"
   ]
  },
  {
   "cell_type": "code",
   "execution_count": 9,
   "metadata": {},
   "outputs": [],
   "source": [
    "#StefanPochmann\n",
    "#take the first too-rare character and split the string\n",
    "def longestSubstring(s, k):\n",
    "    for c in set(s):\n",
    "        if s.count(c) < k:\n",
    "            return max(longestSubstring(t, k) for t in s.split(c))\n",
    "    return len(s)\n",
    "#notice the \"reverse\" position of base case"
   ]
  },
  {
   "cell_type": "code",
   "execution_count": 10,
   "metadata": {},
   "outputs": [
    {
     "data": {
      "text/plain": [
       "5"
      ]
     },
     "execution_count": 10,
     "metadata": {},
     "output_type": "execute_result"
    }
   ],
   "source": [
    "longestSubstring('ababbcaba',2)"
   ]
  },
  {
   "cell_type": "markdown",
   "metadata": {},
   "source": [
    "# Futher digression on algorithm classfication:(some overlap with week 1&2 but hopefully we can 温故而知新）\n",
    "- DP as (D&C + time space trade-off) for optimization problems:\n",
    "\n",
    "    - first two steps divide and conquer(optimal substructure). divide/decrease = define state, conquer = find state transition function\n",
    "\n",
    "    - implementation: either top down(recursion + memoization/hash tables) or bottom up implementation(using tables), because of overlapping subproblems. (time-space trade-off)\n",
    "\n",
    "- DP needs optimal substructure, meaning the original (larger) optimization problem can be conquered by using optimal solution of subproblems. IMO, **Optimal substructure means nothing more than \"it can be solved by D&C\"**\n",
    "\n",
    "    - eg: longest palindromic subsequence\n",
    "\n",
    "- counting/combinetorics as D&C\n",
    "    - artificially break into steps or make choices and then use addition principle and sometimes multiplicity principle \n",
    "\n",
    "    - eg: rabbit jump stairs, robot(break into two subproblems: first step and later steps(similar problem with smaller parameter)), coin change. "
   ]
  },
  {
   "cell_type": "markdown",
   "metadata": {},
   "source": [
    "# HW:\n",
    "- Maximum Depth of Binary Tree(LC104).https://leetcode.com/problems/maximum-depth-of-binary-tree/\n",
    "- classify 15~20 LC problems into design paradigms(see above for details)\n",
    "- Pow(x,n)(LC50).https://leetcode.com/problems/powx-n/\n",
    "- Generate Parentheses(LC22).Try not to use backtracking.https://leetcode.com/problems/generate-parentheses/\n"
   ]
  },
  {
   "cell_type": "code",
   "execution_count": 11,
   "metadata": {},
   "outputs": [],
   "source": [
    "#visualizing tree, from StefanPochmann; only run once in jupyter notebook\n",
    "import turtle\n",
    "\n",
    "def drawtree(root):\n",
    "    def height(root):\n",
    "        return 1 + max(height(root.left), height(root.right)) if root else -1\n",
    "    def jumpto(x, y):\n",
    "        t.penup()\n",
    "        t.goto(x, y)\n",
    "        t.pendown()\n",
    "    def draw(node, x, y, dx):\n",
    "        if node:\n",
    "            t.goto(x, y)\n",
    "            jumpto(x, y-20)\n",
    "            t.write(node.val, align='center', font=('Arial', 12, 'normal'))\n",
    "            draw(node.left, x-dx, y-60, dx/2)\n",
    "            jumpto(x, y-20)\n",
    "            draw(node.right, x+dx, y-60, dx/2)\n",
    "    t = turtle.Turtle()\n",
    "    t.speed(0); turtle.delay(0)\n",
    "    h = height(root)\n",
    "    jumpto(0, 30*h)\n",
    "    draw(root, 0, 30*h, 40*h)\n",
    "    t.hideturtle()\n",
    "    turtle.exitonclick()"
   ]
  },
  {
   "cell_type": "code",
   "execution_count": null,
   "metadata": {},
   "outputs": [],
   "source": []
  }
 ],
 "metadata": {
  "kernelspec": {
   "display_name": "Python 3",
   "language": "python",
   "name": "python3"
  },
  "language_info": {
   "codemirror_mode": {
    "name": "ipython",
    "version": 3
   },
   "file_extension": ".py",
   "mimetype": "text/x-python",
   "name": "python",
   "nbconvert_exporter": "python",
   "pygments_lexer": "ipython3",
   "version": "3.7.4"
  }
 },
 "nbformat": 4,
 "nbformat_minor": 2
}
